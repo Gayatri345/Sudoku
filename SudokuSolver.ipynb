{
 "cells": [
  {
   "cell_type": "code",
   "execution_count": 24,
   "metadata": {},
   "outputs": [],
   "source": []
  },
  {
   "cell_type": "code",
   "execution_count": 25,
   "metadata": {},
   "outputs": [],
   "source": [
    "import numpy as np\n",
    "import matplotlib.pyplot as plt"
   ]
  },
  {
   "cell_type": "code",
   "execution_count": 26,
   "metadata": {},
   "outputs": [],
   "source": [
    "puzzle= [[5, 0, 3, 0, 0, 0, 0, 0, 0],\n",
    "        [2, 0, 0, 3, 0, 0, 0, 0, 0],\n",
    "        [0, 4, 0, 7, 1, 0, 2, 0, 3],\n",
    "        [0, 0, 5, 4, 0, 0, 0, 7, 1],\n",
    "        [0, 0, 4, 2, 0, 1, 8, 0, 0],\n",
    "        [6, 8, 0, 0, 0, 7, 5, 0, 0],\n",
    "        [1, 0, 7, 0, 6, 9, 0, 3, 0],\n",
    "        [0, 0, 0, 0, 0, 4, 0, 0, 6],\n",
    "        [0, 0, 0, 0, 0, 0, 9, 0, 5]]"
   ]
  },
  {
   "cell_type": "markdown",
   "metadata": {},
   "source": [
    "puzzle= [[3, 0, 6, 5, 0, 8, 4, 0, 0],\n",
    "        [5, 2, 0, 0, 0, 0, 0, 0, 0],\n",
    "        [0, 8, 7, 0, 0, 0, 0, 3, 1],\n",
    "        [0, 0, 3, 0, 1, 0, 0, 8, 0],\n",
    "        [9, 0, 0, 8, 6, 3, 0, 0, 5],\n",
    "        [0, 5, 0, 0, 9, 0, 6, 0, 0],\n",
    "        [1, 3, 0, 0, 0, 0, 2, 5, 0],\n",
    "        [0, 0, 0, 0, 0, 0, 0, 7, 4],\n",
    "        [0, 0, 5, 2, 0, 6, 3, 0, 0]]"
   ]
  },
  {
   "cell_type": "code",
   "execution_count": 27,
   "metadata": {},
   "outputs": [],
   "source": [
    "def showTable(tbl):\n",
    "    plt.figure(1, figsize=(7, 7))\n",
    "    tb = plt.table(cellText=puzzle, loc=(0,0), cellLoc='center')\n",
    "\n",
    "    tc = tb.properties()['child_artists']\n",
    "    for cell in tc: \n",
    "\n",
    "        cell.set_height(1.0/9)\n",
    "        cell.set_width(1.0/9)\n",
    "        cell.get_text().set_color('blue')\n",
    "\n",
    "    ax = plt.gca()\n",
    "    ax.set_xticks([])\n",
    "    ax.set_yticks([])\n",
    "\n",
    "    plt.show()"
   ]
  },
  {
   "cell_type": "code",
   "execution_count": 28,
   "metadata": {},
   "outputs": [
    {
     "data": {
      "image/png": "[encoded data removed]",
      "text/plain": [
       "<Figure size 504x504 with 1 Axes>"
      ]
     },
     "metadata": {},
     "output_type": "display_data"
    }
   ],
   "source": [
    "showTable(puzzle)"
   ]
  },
  {
   "cell_type": "code",
   "execution_count": 29,
   "metadata": {},
   "outputs": [],
   "source": [
    "def index_to_position(index):\n",
    "    strides = (9,1)\n",
    "    pos = 0\n",
    "    for i in range(len(strides)):\n",
    "        pos = pos + strides[i]*index[i]\n",
    "    return pos"
   ]
  },
  {
   "cell_type": "code",
   "execution_count": 30,
   "metadata": {},
   "outputs": [],
   "source": [
    "def index_in_table(position):\n",
    "    shape=(9,9)\n",
    "    l1 = list(shape)\n",
    "    pos = position\n",
    "    out_index=[0,0]\n",
    "    strides = (9,1)\n",
    "\n",
    "    def mul(a):\n",
    "        mul = 1\n",
    "        for each in a:\n",
    "            mul = mul * each\n",
    "        return mul\n",
    "\n",
    "    for i in range(0, len(strides)):\n",
    "\n",
    "        if i == len(l1) - 1:\n",
    "            val = pos % l1[i]\n",
    "            out_index[i] = int(val)\n",
    "\n",
    "        else:\n",
    "            sublist = l1[i + 1:]\n",
    "            val = pos / mul(sublist)\n",
    "            out_index[i] = int(val)\n",
    "            pos = pos - int(val) * mul(sublist)\n",
    "    return out_index[0], out_index[1]"
   ]
  },
  {
   "cell_type": "code",
   "execution_count": 31,
   "metadata": {},
   "outputs": [],
   "source": [
    "\n",
    "\n",
    "class Node:\n",
    "    def __init__(self,x,y,c):\n",
    "        self.x_pos = x #x_pos\n",
    "        self.y_pos = y #y_pos\n",
    "        self.color = c\n",
    "        self.available_colors = None\n",
    "        self.neighbors_restricted = None\n",
    "    def update_colors(self):\n",
    "        self.available_colors = {1,2,3,4,5,6,7,8,9}.difference(set([x.color for x in self.neighbor_list]))\n",
    "        \n",
    "    '''\n",
    "    def restricted_for_neighbors(self):\n",
    "        restricted_list = []\n",
    "        for each in self.neighbor_list:\n",
    "            if (each.color == 0):\n",
    "                for i in each.neighbor_list:\n",
    "                    if i.color != 0:\n",
    "                        restricted_list.append(i.color)\n",
    "        self.neighbors_restricted = set(restricted_list)\n",
    "      '''              \n",
    "    def update_node(self):\n",
    "        self.update_colors()\n",
    "        # self.restricted_for_neighbors()\n",
    "        \n",
    "    \n",
    "\n",
    "#puzzle=[[0]*9]*9\n",
    "storage =[]\n",
    "for i in range (0,9):\n",
    "    for j in range(0,9):\n",
    "        c = puzzle[i][j]\n",
    "        newNode= Node(i,j,c)\n",
    "        storage.append(newNode)\n",
    "    "
   ]
  },
  {
   "cell_type": "code",
   "execution_count": 32,
   "metadata": {},
   "outputs": [],
   "source": [
    "\n",
    "#storage[1].color=1\n"
   ]
  },
  {
   "cell_type": "code",
   "execution_count": 33,
   "metadata": {},
   "outputs": [],
   "source": [
    "def update_puzzle():\n",
    "    for i in range(0,9):\n",
    "        for j in range(0,9):\n",
    "            puzzle[i][j]=storage[index_to_position([i,j])].color\n",
    "            "
   ]
  },
  {
   "cell_type": "code",
   "execution_count": 34,
   "metadata": {},
   "outputs": [],
   "source": [
    "update_puzzle()"
   ]
  },
  {
   "cell_type": "code",
   "execution_count": 35,
   "metadata": {},
   "outputs": [],
   "source": [
    "def row_col_adj(x_pos,y_pos):\n",
    "    neighbor_list=[]\n",
    "    for i in range(9):\n",
    "        neighbor_list.append(storage[index_to_position([x_pos,i])])\n",
    "        neighbor_list.append(storage[index_to_position([i,y_pos])])\n",
    "    return neighbor_list\n",
    "\n",
    "def box_adj(x_pos,y_pos):\n",
    "    neighbor_list=[]\n",
    "    start_x = x_pos-x_pos%3\n",
    "    start_y = y_pos - y_pos%3\n",
    "    for i in range(3):\n",
    "        for j in range(3):\n",
    "            neighbor_list.append(storage[index_to_position([i+start_x,j+start_y])])\n",
    "    return neighbor_list"
   ]
  },
  {
   "cell_type": "code",
   "execution_count": 36,
   "metadata": {},
   "outputs": [],
   "source": [
    "#Set the Neighbors\n",
    "for i in range(0,len(storage)):\n",
    "    x_pos, y_pos = index_in_table(i)\n",
    "    n1 = row_col_adj(x_pos,y_pos)\n",
    "    n2 = box_adj(x_pos,y_pos)\n",
    "    storage[i].neighbor_list = set(n1+n2).difference(set([storage[i]]))"
   ]
  },
  {
   "cell_type": "code",
   "execution_count": 37,
   "metadata": {},
   "outputs": [],
   "source": [
    "#for i in storage[7].neighbor_list:\n",
    "  # print(str(i.x_pos)+\" \"+str(i.y_pos))\n",
    "#print(len(storage[0].neighbor_list))"
   ]
  },
  {
   "cell_type": "code",
   "execution_count": null,
   "metadata": {},
   "outputs": [],
   "source": []
  },
  {
   "cell_type": "code",
   "execution_count": 38,
   "metadata": {},
   "outputs": [
    {
     "name": "stdout",
     "output_type": "stream",
     "text": [
      "{1, 9, 6, 7}\n",
      "None\n"
     ]
    }
   ],
   "source": [
    "# update_available()\n",
    "i = 1\n",
    "storage[i].update_node()\n",
    "# print(storage[9].available_colors)\n",
    "print(storage[i].available_colors)\n",
    "print(storage[i].neighbors_restricted)"
   ]
  },
  {
   "cell_type": "code",
   "execution_count": 39,
   "metadata": {},
   "outputs": [
    {
     "name": "stdout",
     "output_type": "stream",
     "text": [
      "{0, 1, 3, 5, 6, 7}\n"
     ]
    }
   ],
   "source": [
    "print(set([x.color for x in storage[4].neighbor_list]))"
   ]
  },
  {
   "cell_type": "code",
   "execution_count": 40,
   "metadata": {},
   "outputs": [
    {
     "name": "stdout",
     "output_type": "stream",
     "text": [
      "The total number of uncolored nodes is: 51\n"
     ]
    }
   ],
   "source": [
    "queue = []\n",
    "for each in storage:\n",
    "    if each.color == 0:\n",
    "        queue.append(each)\n",
    "print(\"The total number of uncolored nodes is: \"+str(len(queue)))"
   ]
  },
  {
   "cell_type": "code",
   "execution_count": 41,
   "metadata": {},
   "outputs": [
    {
     "name": "stdout",
     "output_type": "stream",
     "text": [
      "changed color of: 4,8 :9\n",
      "changed color of: 5,3 :9\n",
      "changed color of: 5,4 :3\n",
      "changed color of: 6,6 :4\n",
      "changed color of: 3,4 :8\n",
      "changed color of: 3,5 :6\n",
      "changed color of: 3,6 :3\n",
      "changed color of: 4,4 :5\n",
      "changed color of: 4,7 :6\n",
      "changed color of: 3,0 :9\n",
      "changed color of: 3,1 :2\n",
      "changed color of: 5,2 :1\n",
      "changed color of: 6,1 :5\n",
      "changed color of: 6,3 :8\n",
      "changed color of: 6,8 :2\n",
      "changed color of: 8,3 :1\n",
      "changed color of: 8,7 :8\n",
      "changed color of: 0,3 :6\n",
      "changed color of: 2,0 :8\n",
      "changed color of: 2,5 :5\n",
      "changed color of: 2,7 :9\n",
      "changed color of: 5,8 :4\n",
      "changed color of: 7,0 :3\n",
      "changed color of: 7,1 :9\n",
      "changed color of: 7,3 :5\n",
      "changed color of: 7,7 :1\n",
      "changed color of: 8,0 :4\n",
      "changed color of: 8,1 :6\n",
      "changed color of: 8,2 :2\n",
      "changed color of: 8,4 :7\n",
      "changed color of: 8,5 :3\n",
      "changed color of: 0,7 :4\n",
      "changed color of: 1,5 :8\n",
      "changed color of: 1,7 :5\n",
      "changed color of: 1,8 :7\n",
      "changed color of: 2,2 :6\n",
      "changed color of: 4,0 :7\n",
      "changed color of: 4,1 :3\n",
      "changed color of: 5,7 :2\n",
      "changed color of: 7,2 :8\n",
      "changed color of: 7,4 :2\n",
      "changed color of: 7,6 :7\n",
      "changed color of: 0,4 :9\n",
      "changed color of: 0,5 :2\n",
      "changed color of: 0,6 :1\n",
      "changed color of: 0,8 :8\n",
      "changed color of: 1,1 :1\n",
      "changed color of: 1,2 :9\n",
      "changed color of: 1,4 :4\n",
      "changed color of: 1,6 :6\n",
      "changed color of: 0,1 :7\n"
     ]
    }
   ],
   "source": [
    "while (len(queue)!=0):\n",
    "    current = queue.pop(0)\n",
    "    current.update_colors()\n",
    "    if len(current.available_colors)== 1:\n",
    "        current.color = list(current.available_colors)[0]\n",
    "        print(\"changed color of: \"+str(current.x_pos)+\",\"+str(current.y_pos)+\" :\"+str(current.color))\n",
    "        for each in current.neighbor_list:\n",
    "            each.update_node()\n",
    "    else:\n",
    "        queue.append(current)\n",
    "        \n",
    "    "
   ]
  },
  {
   "cell_type": "code",
   "execution_count": 42,
   "metadata": {},
   "outputs": [
    {
     "data": {
      "image/png": "[encoded data removed]",
      "text/plain": [
       "<Figure size 504x504 with 1 Axes>"
      ]
     },
     "metadata": {},
     "output_type": "display_data"
    }
   ],
   "source": [
    "update_puzzle()\n",
    "showTable(puzzle)"
   ]
  },
  {
   "cell_type": "code",
   "execution_count": null,
   "metadata": {},
   "outputs": [],
   "source": []
  },
  {
   "cell_type": "code",
   "execution_count": null,
   "metadata": {},
   "outputs": [],
   "source": []
  }
 ],
 "metadata": {
  "kernelspec": {
   "display_name": "Python 3",
   "language": "python",
   "name": "python3"
  },
  "language_info": {
   "codemirror_mode": {
    "name": "ipython",
    "version": 3
   },
   "file_extension": ".py",
   "mimetype": "text/x-python",
   "name": "python",
   "nbconvert_exporter": "python",
   "pygments_lexer": "ipython3",
   "version": "3.7.4"
  }
 },
 "nbformat": 4,
 "nbformat_minor": 2
}
