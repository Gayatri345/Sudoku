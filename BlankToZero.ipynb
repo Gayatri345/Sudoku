{
 "cells": [
  {
   "cell_type": "code",
   "execution_count": 1,
   "id": "empty-lender",
   "metadata": {},
   "outputs": [],
   "source": [
    "#Replacing empty images with image of zero"
   ]
  },
  {
   "cell_type": "code",
   "execution_count": 251,
   "id": "acoustic-filling",
   "metadata": {},
   "outputs": [],
   "source": [
    "import matplotlib.pyplot as plt\n",
    "import matplotlib.image as mpimg\n",
    "import numpy as np\n",
    "from PIL import Image\n",
    "from matplotlib import pyplot"
   ]
  },
  {
   "cell_type": "code",
   "execution_count": 252,
   "id": "proprietary-exhibition",
   "metadata": {},
   "outputs": [],
   "source": [
    "import os\n"
   ]
  },
  {
   "cell_type": "code",
   "execution_count": 253,
   "id": "honey-sarah",
   "metadata": {},
   "outputs": [],
   "source": [
    "cell_list=['cell00.png', 'cell01.png', 'cell02.png', 'cell03.png', 'cell04.png', 'cell05.png', 'cell06.png', 'cell07.png', 'cell08.png', 'cell10.png', 'cell11.png', 'cell12.png', 'cell13.png', 'cell14.png', 'cell15.png', 'cell16.png', 'cell17.png', 'cell18.png', 'cell20.png', 'cell21.png', 'cell22.png', 'cell23.png', 'cell24.png', 'cell25.png', 'cell26.png', 'cell27.png', 'cell28.png', 'cell30.png', 'cell31.png', 'cell32.png', 'cell33.png', 'cell34.png', 'cell35.png', 'cell36.png', 'cell37.png', 'cell38.png', 'cell40.png', 'cell41.png', 'cell42.png', 'cell43.png', 'cell44.png', 'cell45.png', 'cell46.png', 'cell47.png', 'cell48.png', 'cell50.png', 'cell51.png', 'cell52.png', 'cell53.png', 'cell54.png', 'cell55.png', 'cell56.png', 'cell57.png', 'cell58.png', 'cell60.png', 'cell61.png', 'cell62.png', 'cell63.png', 'cell64.png', 'cell65.png', 'cell66.png', 'cell67.png', 'cell68.png', 'cell70.png', 'cell71.png', 'cell72.png', 'cell73.png', 'cell74.png', 'cell75.png', 'cell76.png', 'cell77.png', 'cell78.png', 'cell80.png', 'cell81.png', 'cell82.png', 'cell83.png', 'cell84.png', 'cell85.png', 'cell86.png', 'cell87.png', 'cell88.png']"
   ]
  },
  {
   "cell_type": "code",
   "execution_count": 254,
   "id": "familiar-texture",
   "metadata": {},
   "outputs": [
    {
     "name": "stdout",
     "output_type": "stream",
     "text": [
      "Size of cell00.png file : 2050 bytes\n",
      "Size of cell01.png file : 374 bytes\n",
      "Size of cell02.png file : 2018 bytes\n",
      "Size of cell03.png file : 374 bytes\n",
      "Size of cell04.png file : 374 bytes\n",
      "Size of cell05.png file : 374 bytes\n",
      "Size of cell06.png file : 374 bytes\n",
      "Size of cell07.png file : 374 bytes\n",
      "Size of cell08.png file : 374 bytes\n",
      "Size of cell10.png file : 2641 bytes\n",
      "Size of cell11.png file : 374 bytes\n",
      "Size of cell12.png file : 374 bytes\n",
      "Size of cell13.png file : 3051 bytes\n",
      "Size of cell14.png file : 374 bytes\n",
      "Size of cell15.png file : 374 bytes\n",
      "Size of cell16.png file : 374 bytes\n",
      "Size of cell17.png file : 374 bytes\n",
      "Size of cell18.png file : 374 bytes\n",
      "Size of cell20.png file : 374 bytes\n",
      "Size of cell21.png file : 1775 bytes\n",
      "Size of cell22.png file : 374 bytes\n",
      "Size of cell23.png file : 1830 bytes\n",
      "Size of cell24.png file : 1046 bytes\n",
      "Size of cell25.png file : 374 bytes\n",
      "Size of cell26.png file : 2633 bytes\n",
      "Size of cell27.png file : 374 bytes\n",
      "Size of cell28.png file : 3052 bytes\n",
      "Size of cell30.png file : 374 bytes\n",
      "Size of cell31.png file : 374 bytes\n",
      "Size of cell32.png file : 2084 bytes\n",
      "Size of cell33.png file : 1816 bytes\n",
      "Size of cell34.png file : 374 bytes\n",
      "Size of cell35.png file : 374 bytes\n",
      "Size of cell36.png file : 374 bytes\n",
      "Size of cell37.png file : 1818 bytes\n",
      "Size of cell38.png file : 1062 bytes\n",
      "Size of cell40.png file : 374 bytes\n",
      "Size of cell41.png file : 374 bytes\n",
      "Size of cell42.png file : 1769 bytes\n",
      "Size of cell43.png file : 2626 bytes\n",
      "Size of cell44.png file : 374 bytes\n",
      "Size of cell45.png file : 1314 bytes\n",
      "Size of cell46.png file : 2710 bytes\n",
      "Size of cell47.png file : 374 bytes\n",
      "Size of cell48.png file : 374 bytes\n",
      "Size of cell50.png file : 2910 bytes\n",
      "Size of cell51.png file : 2753 bytes\n",
      "Size of cell52.png file : 374 bytes\n",
      "Size of cell53.png file : 374 bytes\n",
      "Size of cell54.png file : 374 bytes\n",
      "Size of cell55.png file : 1987 bytes\n",
      "Size of cell56.png file : 2080 bytes\n",
      "Size of cell57.png file : 374 bytes\n",
      "Size of cell58.png file : 374 bytes\n",
      "Size of cell60.png file : 1996 bytes\n",
      "Size of cell61.png file : 374 bytes\n",
      "Size of cell62.png file : 1835 bytes\n",
      "Size of cell63.png file : 374 bytes\n",
      "Size of cell64.png file : 2215 bytes\n",
      "Size of cell65.png file : 2099 bytes\n",
      "Size of cell66.png file : 374 bytes\n",
      "Size of cell67.png file : 2036 bytes\n",
      "Size of cell68.png file : 374 bytes\n",
      "Size of cell70.png file : 374 bytes\n",
      "Size of cell71.png file : 374 bytes\n",
      "Size of cell72.png file : 374 bytes\n",
      "Size of cell73.png file : 374 bytes\n",
      "Size of cell74.png file : 374 bytes\n",
      "Size of cell75.png file : 1793 bytes\n",
      "Size of cell76.png file : 374 bytes\n",
      "Size of cell77.png file : 374 bytes\n",
      "Size of cell78.png file : 2943 bytes\n",
      "Size of cell80.png file : 374 bytes\n",
      "Size of cell81.png file : 374 bytes\n",
      "Size of cell82.png file : 374 bytes\n",
      "Size of cell83.png file : 374 bytes\n",
      "Size of cell84.png file : 374 bytes\n",
      "Size of cell85.png file : 374 bytes\n",
      "Size of cell86.png file : 2519 bytes\n",
      "Size of cell87.png file : 374 bytes\n",
      "Size of cell88.png file : 2507 bytes\n"
     ]
    }
   ],
   "source": [
    "#Reading the size of image\n",
    "for cell in cell_list:\n",
    "    #print(image)\n",
    "    file_size = os.stat(cell)\n",
    "    print('Size of '+ cell + ' file :', file_size.st_size, \"bytes\")\n",
    "    "
   ]
  },
  {
   "cell_type": "code",
   "execution_count": 259,
   "id": "hindu-leather",
   "metadata": {},
   "outputs": [
    {
     "name": "stdout",
     "output_type": "stream",
     "text": [
      "empty_cell : ['cell01.png', 'cell03.png', 'cell04.png', 'cell05.png', 'cell06.png', 'cell07.png', 'cell08.png', 'cell11.png', 'cell12.png', 'cell14.png', 'cell15.png', 'cell16.png', 'cell17.png', 'cell18.png', 'cell20.png', 'cell22.png', 'cell25.png', 'cell27.png', 'cell30.png', 'cell31.png', 'cell34.png', 'cell35.png', 'cell36.png', 'cell40.png', 'cell41.png', 'cell44.png', 'cell47.png', 'cell48.png', 'cell52.png', 'cell53.png', 'cell54.png', 'cell57.png', 'cell58.png', 'cell61.png', 'cell63.png', 'cell66.png', 'cell68.png', 'cell70.png', 'cell71.png', 'cell72.png', 'cell73.png', 'cell74.png', 'cell76.png', 'cell77.png', 'cell80.png', 'cell81.png', 'cell82.png', 'cell83.png', 'cell84.png', 'cell85.png', 'cell87.png']\n"
     ]
    }
   ],
   "source": [
    "#reading blank images in to empty_list\n",
    "empty_images = []\n",
    "for image in cell_list:\n",
    "    #print(image)\n",
    "    file_size = os.stat(image)\n",
    "   # print('Size of '+ image + ' file :', file_size.st_size, \"bytes\")\n",
    "    if file_size.st_size == 374:\n",
    "        empty_images.append(image)\n",
    "print('empty_cell :', empty_images)\n"
   ]
  },
  {
   "cell_type": "code",
   "execution_count": 260,
   "id": "colonial-probe",
   "metadata": {},
   "outputs": [],
   "source": [
    "#Replacing empty images with image of zero\n",
    "for cell in empty_images:\n",
    "    img1=mpimg.imread('image0.png')\n",
    "    #imgplot = plt.imshow(img1)\n",
    "   # plt.show()\n",
    "    img = mpimg.imread(cell)\n",
    "   # imgplot = plt.imshow(img)\n",
    "    pyplot.imsave(cell,img1)\n",
    "   # print(cell)\n",
    "   # plt.show()\n"
   ]
  },
  {
   "cell_type": "code",
   "execution_count": null,
   "id": "supported-analysis",
   "metadata": {},
   "outputs": [],
   "source": []
  },
  {
   "cell_type": "code",
   "execution_count": null,
   "id": "sacred-empire",
   "metadata": {},
   "outputs": [],
   "source": []
  },
  {
   "cell_type": "code",
   "execution_count": null,
   "id": "sweet-coordinator",
   "metadata": {},
   "outputs": [],
   "source": []
  }
 ],
 "metadata": {
  "kernelspec": {
   "display_name": "Python 3",
   "language": "python",
   "name": "python3"
  },
  "language_info": {
   "codemirror_mode": {
    "name": "ipython",
    "version": 3
   },
   "file_extension": ".py",
   "mimetype": "text/x-python",
   "name": "python",
   "nbconvert_exporter": "python",
   "pygments_lexer": "ipython3",
   "version": "3.8.5"
  }
 },
 "nbformat": 4,
 "nbformat_minor": 5
}
