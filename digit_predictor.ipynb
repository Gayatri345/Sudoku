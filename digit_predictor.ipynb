{
 "cells": [
  {
   "cell_type": "code",
   "execution_count": 282,
   "id": "respected-saint",
   "metadata": {},
   "outputs": [],
   "source": [
    "from Final_code import*"
   ]
  },
  {
   "cell_type": "code",
   "execution_count": null,
   "id": "literary-rough",
   "metadata": {},
   "outputs": [],
   "source": [
    "import tensorflow as tf\n",
    "from tensorflow import keras\n",
    "import matplotlib.pyplot as plt\n",
    "import numpy as np\n",
    "import seaborn as sn\n",
    "import cv2\n",
    "import matplotlib.pyplot as plt"
   ]
  },
  {
   "cell_type": "markdown",
   "id": "finished-spelling",
   "metadata": {},
   "source": [
    "#Training Model with MNIST data set"
   ]
  },
  {
   "cell_type": "code",
   "execution_count": 167,
   "id": "patient-offset",
   "metadata": {},
   "outputs": [
    {
     "name": "stdout",
     "output_type": "stream",
     "text": [
      "Epoch 1/10\n",
      "1875/1875 [==============================] - 6s 3ms/step - loss: 0.2963 - accuracy: 0.9168\n",
      "Epoch 2/10\n",
      "1875/1875 [==============================] - 6s 3ms/step - loss: 0.1367 - accuracy: 0.9596\n",
      "Epoch 3/10\n",
      "1875/1875 [==============================] - 5s 3ms/step - loss: 0.0964 - accuracy: 0.9709\n",
      "Epoch 4/10\n",
      "1875/1875 [==============================] - 5s 3ms/step - loss: 0.0747 - accuracy: 0.9773\n",
      "Epoch 5/10\n",
      "1875/1875 [==============================] - 6s 3ms/step - loss: 0.0599 - accuracy: 0.9818\n",
      "Epoch 6/10\n",
      "1875/1875 [==============================] - 6s 3ms/step - loss: 0.0493 - accuracy: 0.9848\n",
      "Epoch 7/10\n",
      "1875/1875 [==============================] - 3s 2ms/step - loss: 0.0414 - accuracy: 0.9876\n",
      "Epoch 8/10\n",
      "1875/1875 [==============================] - 3s 2ms/step - loss: 0.0353 - accuracy: 0.9895\n",
      "Epoch 9/10\n",
      "1875/1875 [==============================] - 3s 2ms/step - loss: 0.0302 - accuracy: 0.9912\n",
      "Epoch 10/10\n",
      "1875/1875 [==============================] - 3s 2ms/step - loss: 0.0254 - accuracy: 0.9925\n",
      "313/313 [==============================] - 0s 1ms/step - loss: 0.0751 - accuracy: 0.9763\n"
     ]
    }
   ],
   "source": [
    "(X_train, y_train), (X_test, y_test) = keras.datasets.mnist.load_data()\n",
    "X_train = X_train/255\n",
    "X_test = X_test/255\n",
    "X_train_flatten = X_train.reshape(len(X_train), 28*28)\n",
    "X_test_flatten = X_test.reshape(len(X_test), 28*28)\n",
    "model = keras.Sequential([keras.layers.Dense(100, input_shape =(784,),activation = 'relu'),\n",
    "                         keras.layers.Dense(10, activation = 'sigmoid')])\n",
    "#opt = keras.optimizers.Adam(learning_rate=0.01)\n",
    "model.compile(optimizer='adam', loss='sparse_categorical_crossentropy', metrics = ['accuracy'])\n",
    "model.fit(X_train_flatten, y_train, epochs = 10,batch_size=32)\n",
    "model.evaluate(X_test_flatten, y_test)\n",
    "y_predicted = model.predict(X_test_flatten)\n",
    "y_predicted_labels = [np.argmax(i) for i in y_predicted]"
   ]
  },
  {
   "cell_type": "code",
   "execution_count": 168,
   "id": "affected-shelter",
   "metadata": {},
   "outputs": [
    {
     "name": "stdout",
     "output_type": "stream",
     "text": [
      "313/313 [==============================] - 0s 940us/step - loss: 0.0751 - accuracy: 0.9763\n"
     ]
    },
    {
     "data": {
      "text/plain": [
       "[0.07506304979324341, 0.9763000011444092]"
      ]
     },
     "execution_count": 168,
     "metadata": {},
     "output_type": "execute_result"
    }
   ],
   "source": [
    "model.evaluate(X_test_flatten, y_test)"
   ]
  },
  {
   "cell_type": "markdown",
   "id": "cardiovascular-reception",
   "metadata": {},
   "source": [
    "#Getting Images of 0 to 1"
   ]
  },
  {
   "cell_type": "code",
   "execution_count": 169,
   "id": "internal-cambridge",
   "metadata": {},
   "outputs": [
    {
     "data": {
      "text/plain": [
       "<tf.Tensor: shape=(10, 10), dtype=int32, numpy=\n",
       "array([[ 973,    0,    0,    2,    0,    0,    3,    1,    1,    0],\n",
       "       [   0, 1128,    2,    0,    0,    0,    1,    1,    3,    0],\n",
       "       [   5,    5, 1001,    4,    4,    0,    3,    7,    2,    1],\n",
       "       [   1,    0,    5,  988,    0,    3,    1,    6,    4,    2],\n",
       "       [   0,    0,    3,    1,  963,    2,    3,    3,    0,    7],\n",
       "       [   1,    1,    0,   11,    1,  860,    8,    3,    5,    2],\n",
       "       [   2,    3,    3,    1,    3,    7,  939,    0,    0,    0],\n",
       "       [   1,    7,    5,    1,    2,    0,    0, 1005,    4,    3],\n",
       "       [   4,    1,    3,   12,    2,    7,    3,    2,  937,    3],\n",
       "       [   1,    4,    0,   10,   13,    3,    0,    7,    2,  969]])>"
      ]
     },
     "execution_count": 169,
     "metadata": {},
     "output_type": "execute_result"
    }
   ],
   "source": [
    "cm = tf.math.confusion_matrix(labels = y_test, predictions = y_predicted_labels)\n",
    "cm"
   ]
  },
  {
   "cell_type": "code",
   "execution_count": 170,
   "id": "heard-bunny",
   "metadata": {},
   "outputs": [
    {
     "data": {
      "text/plain": [
       "Text(69.0, 0.5, 'truth')"
      ]
     },
     "execution_count": 170,
     "metadata": {},
     "output_type": "execute_result"
    },
    {
     "data": {
      "image/png": "[encoded data removed]",
      "text/plain": [
       "<Figure size 720x504 with 2 Axes>"
      ]
     },
     "metadata": {
      "needs_background": "light"
     },
     "output_type": "display_data"
    }
   ],
   "source": [
    "plt.figure(figsize = (10,7))\n",
    "sn.heatmap(cm, annot = True, fmt = 'd')\n",
    "plt.xlabel('predicted')\n",
    "plt.ylabel('truth')"
   ]
  },
  {
   "cell_type": "code",
   "execution_count": 211,
   "id": "circular-recovery",
   "metadata": {},
   "outputs": [
    {
     "name": "stdout",
     "output_type": "stream",
     "text": [
      "image_list:  ['image0.png', 'image1.png', 'image2.png', 'image3.png', 'image4.png', 'image5.png', 'image6.png', 'image7.png', 'image8.png', 'image9.png']\n"
     ]
    }
   ],
   "source": [
    "image_list=[]\n",
    "for i in range(0,10):\n",
    "    image='image'+str(i)+'.png'\n",
    "    image_list.append(image)\n",
    "print('image_list: ',image_list)\n"
   ]
  },
  {
   "cell_type": "markdown",
   "id": "distant-latin",
   "metadata": {},
   "source": [
    "#Predicting images from 0 to 9"
   ]
  },
  {
   "cell_type": "code",
   "execution_count": 210,
   "id": "sought-major",
   "metadata": {},
   "outputs": [
    {
     "name": "stdout",
     "output_type": "stream",
     "text": [
      "[[0], [1], [2], [3], [4], [5], [6], [7], [8], [9]]\n"
     ]
    }
   ],
   "source": [
    "#images 0 to 9 prediction\n",
    "import time\n",
    "predict_list=[]\n",
    "for image in image_list:\n",
    "    #print(image)\n",
    "    file= image\n",
    "    #print(file)\n",
    "    test_image = cv2.imread(file, cv2.IMREAD_GRAYSCALE)\n",
    "    img_resized = cv2.resize(test_image, (28,28), interpolation=cv2.INTER_LINEAR)\n",
    "    img_resized = cv2.bitwise_not(img_resized)\n",
    "    img2_resized= img_resized/255\n",
    "    #print(img_resized)\n",
    "    img_resized_flatten = img2_resized.reshape(1, 28*28)\n",
    "    y_predicted = model.predict(img_resized_flatten)\n",
    "    y_predicted_labels = [np.argmax(i) for i in y_predicted]\n",
    "    #print(y_predicted_labels)\n",
    "    predict_list.append(y_predicted_labels)\n",
    "    #time.sleep(3)\n",
    "print(predict_list)\n",
    "    "
   ]
  },
  {
   "cell_type": "markdown",
   "id": "constitutional-profile",
   "metadata": {},
   "source": [
    "#Test prediction for any single image"
   ]
  },
  {
   "cell_type": "code",
   "execution_count": 212,
   "id": "occupied-kingdom",
   "metadata": {},
   "outputs": [
    {
     "name": "stdout",
     "output_type": "stream",
     "text": [
      "[3]\n"
     ]
    }
   ],
   "source": [
    "file= 'image3.png' #test image\n",
    "#print(file)\n",
    "test_image = cv2.imread(file, cv2.IMREAD_GRAYSCALE)\n",
    "img_resized = cv2.resize(test_image, (28,28), interpolation=cv2.INTER_LINEAR)\n",
    "img_resized = cv2.bitwise_not(img_resized)\n",
    "img2_resized= img_resized/255\n",
    "#print(img_resized)\n",
    "img_resized_flatten = img2_resized.reshape(1, 28*28)\n",
    "y_predicted = model.predict(img_resized_flatten)\n",
    "y_predicted_labels = [np.argmax(i) for i in y_predicted]\n",
    "print(y_predicted_labels)"
   ]
  },
  {
   "cell_type": "markdown",
   "id": "surrounded-jamaica",
   "metadata": {},
   "source": [
    "#Reading the images of Sudoku grid(81 cell images) in to list"
   ]
  },
  {
   "cell_type": "markdown",
   "id": "angry-uniform",
   "metadata": {},
   "source": [
    "#Reading images of SUDOKU GRID"
   ]
  },
  {
   "cell_type": "code",
   "execution_count": 224,
   "id": "mounted-indonesian",
   "metadata": {},
   "outputs": [],
   "source": [
    "image_list=[]\n",
    "for i in range(0,9):\n",
    "    for j in range(0,9):\n",
    "        image='cell'+str(i)+str(j)+'.png'\n",
    "        image_list.append(image)\n",
    "#print('image_list: ',image_list)\n"
   ]
  },
  {
   "cell_type": "markdown",
   "id": "worse-washington",
   "metadata": {},
   "source": [
    "#predicting given set of images and appending it to a list using our trained model"
   ]
  },
  {
   "cell_type": "code",
   "execution_count": 225,
   "id": "restricted-consensus",
   "metadata": {},
   "outputs": [],
   "source": [
    "import time\n",
    "predict_list=[]\n",
    "for image in image_list:\n",
    "    #print(image)\n",
    "    file= image\n",
    "    #print(file)\n",
    "    test_image = cv2.imread(file, cv2.IMREAD_GRAYSCALE)\n",
    "    img_resized = cv2.resize(test_image, (28,28), interpolation=cv2.INTER_LINEAR)\n",
    "    img_resized = cv2.bitwise_not(img_resized)\n",
    "    img2_resized= img_resized/255\n",
    "    #print(img_resized)\n",
    "    img_resized_flatten = img2_resized.reshape(1, 28*28)\n",
    "    y_predicted = model.predict(img_resized_flatten)\n",
    "    y_predicted_labels = [np.argmax(i) for i in y_predicted]\n",
    "    #print(y_predicted_labels)\n",
    "    predict_list.append(y_predicted_labels)\n",
    "    #time.sleep(3)\n",
    "    \n",
    "#print(predict_list)\n"
   ]
  },
  {
   "cell_type": "code",
   "execution_count": 284,
   "id": "specified-underground",
   "metadata": {},
   "outputs": [
    {
     "name": "stdout",
     "output_type": "stream",
     "text": [
      "sudoku input matrix\n",
      " puzzle=\n",
      " [[5 0 3 0 0 0 0 0 0]\n",
      " [2 0 0 3 0 0 0 0 0]\n",
      " [0 4 0 7 1 0 2 0 3]\n",
      " [0 0 5 4 0 0 0 7 1]\n",
      " [0 0 4 2 0 1 8 0 0]\n",
      " [6 8 0 0 0 7 5 0 0]\n",
      " [1 0 7 0 6 9 0 3 0]\n",
      " [0 0 0 0 0 4 0 0 6]\n",
      " [0 0 0 0 0 0 9 0 5]]\n"
     ]
    }
   ],
   "source": [
    "my_array = np.array(predict_list)\n",
    "puzzle = np.reshape(my_array, (9,9))\n",
    "print('sudoku input matrix\\n puzzle=\\n',puzzle)\n"
   ]
  },
  {
   "cell_type": "markdown",
   "id": "peaceful-clark",
   "metadata": {},
   "source": [
    "#Original input\n",
    "[[5 0 3 0 0 0 0 0 0]\n",
    " [2 0 0 3 0 0 0 0 0]\n",
    " [0 4 0 7 1 0 2 0 3]\n",
    " [0 0 5 4 0 0 0 7 1]\n",
    " [0 0 4 2 0 1 8 0 0]\n",
    " [6 8 0 0 0 7 5 0 0]\n",
    " [1 0 7 0 6 9 0 3 0]\n",
    " [0 0 0 0 0 4 0 0 6]\n",
    " [0 0 0 0 0 0 9 0 5]]"
   ]
  },
  {
   "cell_type": "markdown",
   "id": "adopted-moderator",
   "metadata": {},
   "source": [
    "sudoku input matrix\n",
    " [[5 0 8 0 0 0 0 0 0]\n",
    " [2 0 0 3 0 0 0 0 0]\n",
    " [0 4 0 7 1 0 2 0 3]\n",
    " [0 0 5 4 0 0 0 7 1]\n",
    " [0 0 9 2 0 1 8 0 0]\n",
    " [6 8 0 0 0 7 5 0 0]\n",
    " [5 0 7 0 6 9 0 9 0]\n",
    " [0 0 0 0 0 4 0 0 5]\n",
    " [0 0 0 0 0 0 3 0 5]]\n",
    "#with learning_rate"
   ]
  },
  {
   "cell_type": "markdown",
   "id": "pressing-check",
   "metadata": {},
   "source": [
    "sudoku input matrix\n",
    " [[5 0 3 0 0 0 0 0 0]\n",
    " [2 0 0 3 0 0 0 0 0]\n",
    " [0 4 0 7 1 0 2 0 3]\n",
    " [0 0 5 4 0 0 0 7 1]\n",
    " [0 0 4 2 0 1 8 0 0]\n",
    " [6 8 0 0 0 7 5 0 0]\n",
    " [1 0 7 0 6 9 0 3 0]\n",
    " [0 0 0 0 0 4 0 0 6]\n",
    " [0 0 0 0 0 0 9 0 5]]\n",
    "for picture 50"
   ]
  },
  {
   "cell_type": "markdown",
   "id": "constitutional-newport",
   "metadata": {},
   "source": [
    "sudoku input matrix\n",
    " [[5 0 3 0 0 0 0 0 0]\n",
    " [2 0 0 3 0 0 0 0 0]\n",
    " [0 4 0 7 1 0 2 0 3]\n",
    " [0 0 5 4 0 0 0 7 1]\n",
    " [0 0 4 2 0 1 8 0 0]\n",
    " [6 8 0 0 0 7 5 0 0]\n",
    " [1 0 7 0 6 9 0 3 0]\n",
    " [0 0 0 0 0 4 0 0 6]\n",
    " [0 0 0 0 0 0 3 0 5]\n",
    " \n",
    "for picture22"
   ]
  },
  {
   "cell_type": "markdown",
   "id": "desperate-saturday",
   "metadata": {},
   "source": [
    "#Plotting original image"
   ]
  },
  {
   "cell_type": "code",
   "execution_count": 264,
   "id": "cathedral-structure",
   "metadata": {},
   "outputs": [
    {
     "data": {
      "image/png": "[encoded data removed]",
      "text/plain": [
       "<Figure size 432x288 with 1 Axes>"
      ]
     },
     "metadata": {
      "needs_background": "light"
     },
     "output_type": "display_data"
    }
   ],
   "source": [
    "import matplotlib.pyplot as plt\n",
    "import matplotlib.image as mpimg\n",
    "import numpy as np\n",
    "from PIL import Image\n",
    "from matplotlib import pyplot\n",
    "img = mpimg.imread('pic13.png')\n",
    "imgplot = plt.imshow(img)\n",
    "plt.show()"
   ]
  },
  {
   "cell_type": "code",
   "execution_count": 285,
   "id": "double-variance",
   "metadata": {},
   "outputs": [
    {
     "data": {
      "text/plain": [
       "array([[5, 0, 3, 0, 0, 0, 0, 0, 0],\n",
       "       [2, 0, 0, 3, 0, 0, 0, 0, 0],\n",
       "       [0, 4, 0, 7, 1, 0, 2, 0, 3],\n",
       "       [0, 0, 5, 4, 0, 0, 0, 7, 1],\n",
       "       [0, 0, 4, 2, 0, 1, 8, 0, 0],\n",
       "       [6, 8, 0, 0, 0, 7, 5, 0, 0],\n",
       "       [1, 0, 7, 0, 6, 9, 0, 3, 0],\n",
       "       [0, 0, 0, 0, 0, 4, 0, 0, 6],\n",
       "       [0, 0, 0, 0, 0, 0, 9, 0, 5]], dtype=int64)"
      ]
     },
     "execution_count": 285,
     "metadata": {},
     "output_type": "execute_result"
    }
   ],
   "source": [
    "puzzle"
   ]
  },
  {
   "cell_type": "markdown",
   "id": "whole-concentrate",
   "metadata": {},
   "source": [
    "#Sudoku Solving with Generated matrix"
   ]
  },
  {
   "cell_type": "code",
   "execution_count": 287,
   "id": "vital-uganda",
   "metadata": {},
   "outputs": [],
   "source": [
    "def showTable(puzzle):\n",
    "    fig, ax =plt.subplots(1,1)\n",
    "\n",
    "    ax.axis('tight')\n",
    "    ax.axis('off')\n",
    "    ax.table(cellText=puzzle,loc=\"center\")\n",
    "\n",
    "    plt.show()"
   ]
  },
  {
   "cell_type": "code",
   "execution_count": 288,
   "id": "juvenile-turtle",
   "metadata": {},
   "outputs": [
    {
     "data": {
      "image/png": "[encoded data removed]",
      "text/plain": [
       "<Figure size 432x288 with 1 Axes>"
      ]
     },
     "metadata": {
      "needs_background": "light"
     },
     "output_type": "display_data"
    }
   ],
   "source": [
    "showTable(puzzle)"
   ]
  },
  {
   "cell_type": "code",
   "execution_count": 289,
   "id": "elect-louisville",
   "metadata": {},
   "outputs": [],
   "source": [
    "def index_to_position(index):\n",
    "    strides = (9,1)\n",
    "    pos = 0\n",
    "    for i in range(len(strides)):\n",
    "        pos = pos + strides[i]*index[i]\n",
    "    return pos"
   ]
  },
  {
   "cell_type": "code",
   "execution_count": 290,
   "id": "finite-literature",
   "metadata": {},
   "outputs": [],
   "source": [
    "def index_in_table(position):\n",
    "    shape=(9,9)\n",
    "    l1 = list(shape)\n",
    "    pos = position\n",
    "    out_index=[0,0]\n",
    "    strides = (9,1)\n",
    "\n",
    "    def mul(a):\n",
    "        mul = 1\n",
    "        for each in a:\n",
    "            mul = mul * each\n",
    "        return mul\n",
    "\n",
    "    for i in range(0, len(strides)):\n",
    "\n",
    "        if i == len(l1) - 1:\n",
    "            val = pos % l1[i]\n",
    "            out_index[i] = int(val)\n",
    "\n",
    "        else:\n",
    "            sublist = l1[i + 1:]\n",
    "            val = pos / mul(sublist)\n",
    "            out_index[i] = int(val)\n",
    "            pos = pos - int(val) * mul(sublist)\n",
    "    return out_index[0], out_index[1]"
   ]
  },
  {
   "cell_type": "code",
   "execution_count": 291,
   "id": "permanent-sellers",
   "metadata": {},
   "outputs": [],
   "source": [
    "class Node:\n",
    "    def __init__(self,x,y,c):\n",
    "        self.x_pos = x #x_pos\n",
    "        self.y_pos = y #y_pos\n",
    "        self.color = c\n",
    "        self.available_colors = None\n",
    "        self.neighbors_restricted = None\n",
    "    def update_colors(self):\n",
    "        self.available_colors = {1,2,3,4,5,6,7,8,9}.difference(set([x.color for x in self.neighbor_list]))\n",
    "        \n",
    "    '''\n",
    "    def restricted_for_neighbors(self):\n",
    "        restricted_list = []\n",
    "        for each in self.neighbor_list:\n",
    "            if (each.color == 0):\n",
    "                for i in each.neighbor_list:\n",
    "                    if i.color != 0:\n",
    "                        restricted_list.append(i.color)\n",
    "        self.neighbors_restricted = set(restricted_list)\n",
    "      '''              \n",
    "    def update_node(self):\n",
    "        self.update_colors()\n",
    "        # self.restricted_for_neighbors()\n",
    "        \n",
    "    \n",
    "\n",
    "#puzzle=[[0]*9]*9\n",
    "storage =[]\n",
    "for i in range (0,9):\n",
    "    for j in range(0,9):\n",
    "        c = puzzle[i][j]\n",
    "        newNode= Node(i,j,c)\n",
    "        storage.append(newNode)\n",
    "    "
   ]
  },
  {
   "cell_type": "code",
   "execution_count": 292,
   "id": "authentic-transmission",
   "metadata": {},
   "outputs": [],
   "source": [
    "def update_puzzle():\n",
    "    for i in range(0,9):\n",
    "        for j in range(0,9):\n",
    "            puzzle[i][j]=storage[index_to_position([i,j])].color\n",
    "            "
   ]
  },
  {
   "cell_type": "code",
   "execution_count": 293,
   "id": "fourth-circle",
   "metadata": {},
   "outputs": [],
   "source": [
    "update_puzzle()"
   ]
  },
  {
   "cell_type": "code",
   "execution_count": 294,
   "id": "micro-vector",
   "metadata": {},
   "outputs": [],
   "source": [
    "def row_col_adj(x_pos,y_pos):\n",
    "    neighbor_list=[]\n",
    "    for i in range(9):\n",
    "        neighbor_list.append(storage[index_to_position([x_pos,i])])\n",
    "        neighbor_list.append(storage[index_to_position([i,y_pos])])\n",
    "    return neighbor_list\n",
    "\n",
    "def box_adj(x_pos,y_pos):\n",
    "    neighbor_list=[]\n",
    "    start_x = x_pos-x_pos%3\n",
    "    start_y = y_pos - y_pos%3\n",
    "    for i in range(3):\n",
    "        for j in range(3):\n",
    "            neighbor_list.append(storage[index_to_position([i+start_x,j+start_y])])\n",
    "    return neighbor_list"
   ]
  },
  {
   "cell_type": "code",
   "execution_count": 295,
   "id": "continued-emergency",
   "metadata": {},
   "outputs": [],
   "source": [
    "#Set the Neighbors\n",
    "for i in range(0,len(storage)):\n",
    "    x_pos, y_pos = index_in_table(i)\n",
    "    n1 = row_col_adj(x_pos,y_pos)\n",
    "    n2 = box_adj(x_pos,y_pos)\n",
    "    storage[i].neighbor_list = set(n1+n2).difference(set([storage[i]]))"
   ]
  },
  {
   "cell_type": "code",
   "execution_count": 296,
   "id": "weird-african",
   "metadata": {},
   "outputs": [
    {
     "name": "stdout",
     "output_type": "stream",
     "text": [
      "{1, 9, 6, 7}\n",
      "None\n"
     ]
    }
   ],
   "source": [
    "# update_available()\n",
    "i = 1\n",
    "storage[i].update_node()\n",
    "# print(storage[9].available_colors)\n",
    "print(storage[i].available_colors)\n",
    "print(storage[i].neighbors_restricted)"
   ]
  },
  {
   "cell_type": "code",
   "execution_count": 297,
   "id": "polished-rochester",
   "metadata": {},
   "outputs": [
    {
     "name": "stdout",
     "output_type": "stream",
     "text": [
      "{0, 1, 3, 5, 6, 7}\n"
     ]
    }
   ],
   "source": [
    "print(set([x.color for x in storage[4].neighbor_list]))"
   ]
  },
  {
   "cell_type": "code",
   "execution_count": 298,
   "id": "considerable-cambodia",
   "metadata": {},
   "outputs": [
    {
     "name": "stdout",
     "output_type": "stream",
     "text": [
      "The total number of uncolored nodes is: 51\n"
     ]
    }
   ],
   "source": [
    "queue = []\n",
    "for each in storage:\n",
    "    if each.color == 0:\n",
    "        queue.append(each)\n",
    "print(\"The total number of uncolored nodes is: \"+str(len(queue)))"
   ]
  },
  {
   "cell_type": "code",
   "execution_count": 299,
   "id": "suspected-injection",
   "metadata": {},
   "outputs": [
    {
     "name": "stdout",
     "output_type": "stream",
     "text": [
      "changed color of: 4,8 :9\n",
      "changed color of: 5,3 :9\n",
      "changed color of: 5,4 :3\n",
      "changed color of: 6,6 :4\n",
      "changed color of: 3,4 :8\n",
      "changed color of: 3,5 :6\n",
      "changed color of: 3,6 :3\n",
      "changed color of: 4,4 :5\n",
      "changed color of: 4,7 :6\n",
      "changed color of: 3,0 :9\n",
      "changed color of: 3,1 :2\n",
      "changed color of: 5,2 :1\n",
      "changed color of: 6,1 :5\n",
      "changed color of: 6,3 :8\n",
      "changed color of: 6,8 :2\n",
      "changed color of: 8,3 :1\n",
      "changed color of: 8,7 :8\n",
      "changed color of: 0,3 :6\n",
      "changed color of: 2,0 :8\n",
      "changed color of: 2,5 :5\n",
      "changed color of: 2,7 :9\n",
      "changed color of: 5,8 :4\n",
      "changed color of: 7,0 :3\n",
      "changed color of: 7,1 :9\n",
      "changed color of: 7,3 :5\n",
      "changed color of: 7,7 :1\n",
      "changed color of: 8,0 :4\n",
      "changed color of: 8,1 :6\n",
      "changed color of: 8,2 :2\n",
      "changed color of: 8,4 :7\n",
      "changed color of: 8,5 :3\n",
      "changed color of: 0,7 :4\n",
      "changed color of: 1,5 :8\n",
      "changed color of: 1,7 :5\n",
      "changed color of: 1,8 :7\n",
      "changed color of: 2,2 :6\n",
      "changed color of: 4,0 :7\n",
      "changed color of: 4,1 :3\n",
      "changed color of: 5,7 :2\n",
      "changed color of: 7,2 :8\n",
      "changed color of: 7,4 :2\n",
      "changed color of: 7,6 :7\n",
      "changed color of: 0,4 :9\n",
      "changed color of: 0,5 :2\n",
      "changed color of: 0,6 :1\n",
      "changed color of: 0,8 :8\n",
      "changed color of: 1,1 :1\n",
      "changed color of: 1,2 :9\n",
      "changed color of: 1,4 :4\n",
      "changed color of: 1,6 :6\n",
      "changed color of: 0,1 :7\n"
     ]
    }
   ],
   "source": [
    "while (len(queue)!=0):\n",
    "    current = queue.pop(0)\n",
    "    current.update_colors()\n",
    "    if len(current.available_colors)== 1:\n",
    "        current.color = list(current.available_colors)[0]\n",
    "        print(\"changed color of: \"+str(current.x_pos)+\",\"+str(current.y_pos)+\" :\"+str(current.color))\n",
    "        for each in current.neighbor_list:\n",
    "            each.update_node()\n",
    "    else:\n",
    "        queue.append(current)"
   ]
  },
  {
   "cell_type": "code",
   "execution_count": 300,
   "id": "indie-skirt",
   "metadata": {},
   "outputs": [
    {
     "data": {
      "image/png": "[encoded data removed]",
      "text/plain": [
       "<Figure size 432x288 with 1 Axes>"
      ]
     },
     "metadata": {
      "needs_background": "light"
     },
     "output_type": "display_data"
    }
   ],
   "source": [
    "update_puzzle()\n",
    "showTable(puzzle)"
   ]
  },
  {
   "cell_type": "code",
   "execution_count": null,
   "id": "wound-fundamental",
   "metadata": {},
   "outputs": [],
   "source": []
  },
  {
   "cell_type": "code",
   "execution_count": null,
   "id": "assisted-excellence",
   "metadata": {},
   "outputs": [],
   "source": []
  }
 ],
 "metadata": {
  "kernelspec": {
   "display_name": "Python 3",
   "language": "python",
   "name": "python3"
  },
  "language_info": {
   "codemirror_mode": {
    "name": "ipython",
    "version": 3
   },
   "file_extension": ".py",
   "mimetype": "text/x-python",
   "name": "python",
   "nbconvert_exporter": "python",
   "pygments_lexer": "ipython3",
   "version": "3.8.5"
  }
 },
 "nbformat": 4,
 "nbformat_minor": 5
}
