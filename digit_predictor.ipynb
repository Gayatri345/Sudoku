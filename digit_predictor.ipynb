{
 "cells": [
  {
   "cell_type": "code",
   "execution_count": 12,
   "id": "wound-nerve",
   "metadata": {},
   "outputs": [],
   "source": [
    "import tensorflow as tf\n",
    "from tensorflow import keras\n",
    "import matplotlib.pyplot as plt\n",
    "import numpy as np\n",
    "import seaborn as sn\n",
    "import cv2\n",
    "import matplotlib.pyplot as plt"
   ]
  },
  {
   "cell_type": "markdown",
   "id": "tropical-dispute",
   "metadata": {},
   "source": [
    "#Training Model with MNIST data set"
   ]
  },
  {
   "cell_type": "code",
   "execution_count": 13,
   "id": "atmospheric-acrylic",
   "metadata": {},
   "outputs": [
    {
     "name": "stdout",
     "output_type": "stream",
     "text": [
      "Epoch 1/10\n",
      "1875/1875 [==============================] - 2s 891us/step - loss: 0.2891 - accuracy: 0.9197\n",
      "Epoch 2/10\n",
      "1875/1875 [==============================] - 1s 738us/step - loss: 0.1333 - accuracy: 0.9606\n",
      "Epoch 3/10\n",
      "1875/1875 [==============================] - 1s 736us/step - loss: 0.0975 - accuracy: 0.9713\n",
      "Epoch 4/10\n",
      "1875/1875 [==============================] - 1s 741us/step - loss: 0.0757 - accuracy: 0.9772\n",
      "Epoch 5/10\n",
      "1875/1875 [==============================] - 2s 814us/step - loss: 0.0609 - accuracy: 0.9811\n",
      "Epoch 6/10\n",
      "1875/1875 [==============================] - 1s 780us/step - loss: 0.0482 - accuracy: 0.9856\n",
      "Epoch 7/10\n",
      "1875/1875 [==============================] - 1s 750us/step - loss: 0.0413 - accuracy: 0.9870\n",
      "Epoch 8/10\n",
      "1875/1875 [==============================] - 2s 801us/step - loss: 0.0343 - accuracy: 0.9893\n",
      "Epoch 9/10\n",
      "1875/1875 [==============================] - 2s 916us/step - loss: 0.0282 - accuracy: 0.9914\n",
      "Epoch 10/10\n",
      "1875/1875 [==============================] - 4s 2ms/step - loss: 0.0236 - accuracy: 0.9929\n",
      "313/313 [==============================] - 1s 2ms/step - loss: 0.0798 - accuracy: 0.9776\n"
     ]
    }
   ],
   "source": [
    "(X_train, y_train), (X_test, y_test) = keras.datasets.mnist.load_data()\n",
    "X_train = X_train/255\n",
    "X_test = X_test/255\n",
    "X_train_flatten = X_train.reshape(len(X_train), 28*28)\n",
    "X_test_flatten = X_test.reshape(len(X_test), 28*28)\n",
    "model = keras.Sequential([keras.layers.Dense(100, input_shape =(784,),activation = 'relu'),\n",
    "                         keras.layers.Dense(10, activation = 'sigmoid')])\n",
    "model.compile(optimizer='adam', loss='sparse_categorical_crossentropy', metrics = ['accuracy'])\n",
    "model.fit(X_train_flatten, y_train, epochs = 10,batch_size=32)\n",
    "model.evaluate(X_test_flatten, y_test)\n",
    "y_predicted = model.predict(X_test_flatten)\n",
    "y_predicted_labels = [np.argmax(i) for i in y_predicted]"
   ]
  },
  {
   "cell_type": "markdown",
   "id": "psychological-lounge",
   "metadata": {},
   "source": [
    "#Getting Images of 0 to 1"
   ]
  },
  {
   "cell_type": "code",
   "execution_count": 266,
   "id": "absolute-language",
   "metadata": {},
   "outputs": [
    {
     "name": "stdout",
     "output_type": "stream",
     "text": [
      "image_list:  ['image0.png', 'image1.png', 'image2.png', 'image3.png', 'image4.png', 'image5.png', 'image6.png', 'image7.png', 'image8.png', 'image9.png']\n"
     ]
    }
   ],
   "source": [
    "image_list=[]\n",
    "for i in range(0,10):\n",
    "    image='image'+str(i)+'.png'\n",
    "    image_list.append(image)\n",
    "print('image_list: ',image_list)\n"
   ]
  },
  {
   "cell_type": "markdown",
   "id": "numeric-machinery",
   "metadata": {},
   "source": [
    "#Predicting images from 0 to 9"
   ]
  },
  {
   "cell_type": "code",
   "execution_count": 271,
   "id": "coastal-crime",
   "metadata": {},
   "outputs": [
    {
     "name": "stdout",
     "output_type": "stream",
     "text": [
      "[[0], [1], [2], [3], [4], [5], [6], [7], [8], [9]]\n"
     ]
    }
   ],
   "source": [
    "#images 0 to 9 prediction\n",
    "import time\n",
    "predict_list=[]\n",
    "for image in image_list:\n",
    "    #print(image)\n",
    "    file= image\n",
    "    #print(file)\n",
    "    test_image = cv2.imread(file, cv2.IMREAD_GRAYSCALE)\n",
    "    img_resized = cv2.resize(test_image, (28,28), interpolation=cv2.INTER_LINEAR)\n",
    "    img_resized = cv2.bitwise_not(img_resized)\n",
    "    img2_resized= img_resized/255\n",
    "    #print(img_resized)\n",
    "    img_resized_flatten = img2_resized.reshape(1, 28*28)\n",
    "    y_predicted = model.predict(img_resized_flatten)\n",
    "    y_predicted_labels = [np.argmax(i) for i in y_predicted]\n",
    "    #print(y_predicted_labels)\n",
    "    predict_list.append(y_predicted_labels)\n",
    "    #time.sleep(3)\n",
    "print(predict_list)\n",
    "    "
   ]
  },
  {
   "cell_type": "markdown",
   "id": "rental-genre",
   "metadata": {},
   "source": [
    "#Test prediction for any single image"
   ]
  },
  {
   "cell_type": "code",
   "execution_count": 270,
   "id": "whole-contributor",
   "metadata": {},
   "outputs": [
    {
     "name": "stdout",
     "output_type": "stream",
     "text": [
      "[3]\n"
     ]
    }
   ],
   "source": [
    "file= 'image3.png' #test image\n",
    "#print(file)\n",
    "test_image = cv2.imread(file, cv2.IMREAD_GRAYSCALE)\n",
    "img_resized = cv2.resize(test_image, (28,28), interpolation=cv2.INTER_LINEAR)\n",
    "img_resized = cv2.bitwise_not(img_resized)\n",
    "img2_resized= img_resized/255\n",
    "#print(img_resized)\n",
    "img_resized_flatten = img2_resized.reshape(1, 28*28)\n",
    "y_predicted = model.predict(img_resized_flatten)\n",
    "y_predicted_labels = [np.argmax(i) for i in y_predicted]\n",
    "print(y_predicted_labels)"
   ]
  },
  {
   "cell_type": "markdown",
   "id": "settled-independence",
   "metadata": {},
   "source": [
    "#Reading the images of Sudoku grid(81 cell images) in to list"
   ]
  },
  {
   "cell_type": "markdown",
   "id": "alike-usage",
   "metadata": {},
   "source": [
    "#Reading images of SUDOKU GRID"
   ]
  },
  {
   "cell_type": "code",
   "execution_count": 241,
   "id": "significant-arnold",
   "metadata": {},
   "outputs": [
    {
     "name": "stdout",
     "output_type": "stream",
     "text": [
      "image_list:  ['cell00.png', 'cell01.png', 'cell02.png', 'cell03.png', 'cell04.png', 'cell05.png', 'cell06.png', 'cell07.png', 'cell08.png', 'cell10.png', 'cell11.png', 'cell12.png', 'cell13.png', 'cell14.png', 'cell15.png', 'cell16.png', 'cell17.png', 'cell18.png', 'cell20.png', 'cell21.png', 'cell22.png', 'cell23.png', 'cell24.png', 'cell25.png', 'cell26.png', 'cell27.png', 'cell28.png', 'cell30.png', 'cell31.png', 'cell32.png', 'cell33.png', 'cell34.png', 'cell35.png', 'cell36.png', 'cell37.png', 'cell38.png', 'cell40.png', 'cell41.png', 'cell42.png', 'cell43.png', 'cell44.png', 'cell45.png', 'cell46.png', 'cell47.png', 'cell48.png', 'cell50.png', 'cell51.png', 'cell52.png', 'cell53.png', 'cell54.png', 'cell55.png', 'cell56.png', 'cell57.png', 'cell58.png', 'cell60.png', 'cell61.png', 'cell62.png', 'cell63.png', 'cell64.png', 'cell65.png', 'cell66.png', 'cell67.png', 'cell68.png', 'cell70.png', 'cell71.png', 'cell72.png', 'cell73.png', 'cell74.png', 'cell75.png', 'cell76.png', 'cell77.png', 'cell78.png', 'cell80.png', 'cell81.png', 'cell82.png', 'cell83.png', 'cell84.png', 'cell85.png', 'cell86.png', 'cell87.png', 'cell88.png']\n"
     ]
    }
   ],
   "source": [
    "image_list=[]\n",
    "for i in range(0,9):\n",
    "    for j in range(0,9):\n",
    "        image='cell'+str(i)+str(j)+'.png'\n",
    "        image_list.append(image)\n",
    "print('image_list: ',image_list)\n"
   ]
  },
  {
   "cell_type": "markdown",
   "id": "complex-found",
   "metadata": {},
   "source": [
    "#predicting given set of images and appending it to a list using our trained model"
   ]
  },
  {
   "cell_type": "code",
   "execution_count": 246,
   "id": "transparent-initial",
   "metadata": {},
   "outputs": [
    {
     "name": "stdout",
     "output_type": "stream",
     "text": [
      "[[5], [0], [3], [0], [0], [0], [0], [0], [0], [2], [0], [0], [3], [0], [0], [0], [0], [0], [0], [4], [0], [7], [1], [0], [2], [0], [3], [0], [0], [5], [4], [0], [0], [0], [7], [1], [0], [0], [4], [2], [0], [1], [8], [0], [0], [6], [8], [0], [0], [0], [7], [5], [0], [0], [1], [0], [7], [0], [6], [9], [0], [3], [0], [0], [0], [0], [0], [0], [4], [0], [0], [6], [0], [0], [0], [0], [0], [0], [9], [0], [5]]\n"
     ]
    }
   ],
   "source": [
    "import time\n",
    "predict_list=[]\n",
    "for image in image_list:\n",
    "    #print(image)\n",
    "    file= image\n",
    "    #print(file)\n",
    "    test_image = cv2.imread(file, cv2.IMREAD_GRAYSCALE)\n",
    "    img_resized = cv2.resize(test_image, (28,28), interpolation=cv2.INTER_LINEAR)\n",
    "    img_resized = cv2.bitwise_not(img_resized)\n",
    "    img2_resized= img_resized/255\n",
    "    #print(img_resized)\n",
    "    img_resized_flatten = img2_resized.reshape(1, 28*28)\n",
    "    y_predicted = model.predict(img_resized_flatten)\n",
    "    y_predicted_labels = [np.argmax(i) for i in y_predicted]\n",
    "    #print(y_predicted_labels)\n",
    "    predict_list.append(y_predicted_labels)\n",
    "    #time.sleep(3)\n",
    "    \n",
    "print(predict_list)\n"
   ]
  },
  {
   "cell_type": "code",
   "execution_count": 247,
   "id": "essential-novel",
   "metadata": {},
   "outputs": [
    {
     "name": "stdout",
     "output_type": "stream",
     "text": [
      "sudoku input matrix\n",
      " [[5 0 3 0 0 0 0 0 0]\n",
      " [2 0 0 3 0 0 0 0 0]\n",
      " [0 4 0 7 1 0 2 0 3]\n",
      " [0 0 5 4 0 0 0 7 1]\n",
      " [0 0 4 2 0 1 8 0 0]\n",
      " [6 8 0 0 0 7 5 0 0]\n",
      " [1 0 7 0 6 9 0 3 0]\n",
      " [0 0 0 0 0 4 0 0 6]\n",
      " [0 0 0 0 0 0 9 0 5]]\n"
     ]
    }
   ],
   "source": [
    "def sudoku_input():\n",
    "    #predict_list = [[0], [3], [6], [2], [0], [0], [0], [3], [6], [0], [0], [5], [9], [0], [5], [2], [8], [0], [4], [0], [0], [5], [8], [0], [4], [2], [0], [3], [7], [4], [0], [8], [2], [5], [6], [0], [3], [0], [0], [0], [6], [0], [8], [2], [3], [7], [9], [1], [0], [4], [0], [9], [4], [1], [0], [6], [7], [4], [1], [0], [0], [2], [4], [0], [2], [7], [7], [7], [2], [0], [4], [2], [9], [7], [7], [7], [7], [1], [7], [2], [0]]\n",
    "    my_array = np.array(predict_list)\n",
    "    #print(my_array)\n",
    "    sudoku_input = np.reshape(my_array, (9,9))\n",
    "    print('sudoku input matrix\\n',sudoku_input)\n",
    "sudoku_input()"
   ]
  },
  {
   "cell_type": "markdown",
   "id": "supposed-garage",
   "metadata": {},
   "source": [
    "sudoku input matrix\n",
    " [[5 0 3 0 0 0 0 0 0]\n",
    " [2 0 0 3 0 0 0 0 0]\n",
    " [0 4 0 7 1 0 2 0 3]\n",
    " [0 0 5 4 0 0 0 7 1]\n",
    " [0 0 4 2 0 1 8 0 0]\n",
    " [6 8 0 0 0 7 5 0 0]\n",
    " [1 0 7 0 6 9 0 3 0]\n",
    " [0 0 0 0 0 4 0 0 6]\n",
    " [0 0 0 0 0 0 9 0 5]]\n",
    "#picture 50"
   ]
  },
  {
   "cell_type": "markdown",
   "id": "noble-update",
   "metadata": {},
   "source": [
    "sudoku input matrix\n",
    " [[5 0 3 0 0 0 0 0 0]\n",
    " [2 0 0 3 0 0 0 0 0]\n",
    " [0 4 0 7 1 0 2 0 3]\n",
    " [0 0 5 4 0 0 0 7 1]\n",
    " [0 0 4 2 0 1 8 0 0]\n",
    " [6 8 0 0 0 7 5 0 0]\n",
    " [1 0 7 0 6 9 0 3 0]\n",
    " [0 0 0 0 0 4 0 0 6]\n",
    " [0 0 0 0 0 0 3 0 5]\n",
    " # for picture22"
   ]
  },
  {
   "cell_type": "markdown",
   "id": "cognitive-indonesia",
   "metadata": {},
   "source": [
    "#Plotting original image"
   ]
  },
  {
   "cell_type": "code",
   "execution_count": 248,
   "id": "aerial-continent",
   "metadata": {},
   "outputs": [
    {
     "data": {
      "image/png": "[encoded data removed]",
      "text/plain": [
       "<Figure size 432x288 with 1 Axes>"
      ]
     },
     "metadata": {
      "needs_background": "light"
     },
     "output_type": "display_data"
    }
   ],
   "source": [
    "import matplotlib.pyplot as plt\n",
    "import matplotlib.image as mpimg\n",
    "import numpy as np\n",
    "from PIL import Image\n",
    "from matplotlib import pyplot\n",
    "img = mpimg.imread('picture50.png')\n",
    "imgplot = plt.imshow(img)\n",
    "plt.show()"
   ]
  },
  {
   "cell_type": "code",
   "execution_count": null,
   "id": "alpha-hawaiian",
   "metadata": {},
   "outputs": [],
   "source": []
  }
 ],
 "metadata": {
  "kernelspec": {
   "display_name": "Python 3",
   "language": "python",
   "name": "python3"
  },
  "language_info": {
   "codemirror_mode": {
    "name": "ipython",
    "version": 3
   },
   "file_extension": ".py",
   "mimetype": "text/x-python",
   "name": "python",
   "nbconvert_exporter": "python",
   "pygments_lexer": "ipython3",
   "version": "3.8.5"
  }
 },
 "nbformat": 4,
 "nbformat_minor": 5
}
