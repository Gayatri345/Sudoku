{
 "cells": [
  {
   "cell_type": "code",
   "execution_count": 4,
   "id": "grave-powell",
   "metadata": {},
   "outputs": [
    {
     "name": "stdout",
     "output_type": "stream",
     "text": [
      "Shape of the image array\n",
      "image dimensions (600, 600, 3)\n",
      "height =  600\n",
      "width =  600\n",
      "Number of channels = 3\n"
     ]
    }
   ],
   "source": [
    "import matplotlib.pyplot as plt\n",
    "import matplotlib.image as mpimg\n",
    "import numpy as np\n",
    "from PIL import Image\n",
    "from matplotlib import pyplot\n",
    "\n",
    "#Reads the image of a sudoku into an array\n",
    "img = mpimg.imread('sudoku1.png')\n",
    "#print(img)\n",
    "\n",
    "#Plots the image from the array data \n",
    "#imgplot = plt.imshow(img)\n",
    "\n",
    "#Prints the shape of the image array\n",
    "#print()\n",
    "print(\"Shape of the image array\")\n",
    "print('image dimensions',img.shape)\n",
    "height=img.shape[0]\n",
    "width=img.shape[1]\n",
    "channels=img.shape[2]\n",
    "\n",
    "print('height = ',height)\n",
    "print('width = ',width)\n",
    "print('Number of channels =',channels)"
   ]
  },
  {
   "cell_type": "code",
   "execution_count": 5,
   "id": "animated-webster",
   "metadata": {},
   "outputs": [
    {
     "name": "stdout",
     "output_type": "stream",
     "text": [
      "66.66666666666667\n"
     ]
    }
   ],
   "source": [
    "cell_size=height/9\n",
    "print(cell_size)"
   ]
  },
  {
   "cell_type": "code",
   "execution_count": 6,
   "id": "concerned-vegetation",
   "metadata": {},
   "outputs": [
    {
     "data": {
      "image/png": "[encoded data removed]",
      "text/plain": [
       "<Figure size 432x288 with 1 Axes>"
      ]
     },
     "metadata": {
      "needs_background": "light"
     },
     "output_type": "display_data"
    }
   ],
   "source": [
    "imgplot = plt.imshow(img)\n",
    "plt.show()"
   ]
  },
  {
   "cell_type": "code",
   "execution_count": 27,
   "id": "disturbed-penalty",
   "metadata": {},
   "outputs": [],
   "source": [
    "#plt.savefig('/Users/gayat/OneDrive/Desktop/CSCE5210/sudokupictures/name.png',dpi=500)\n",
    "#saved_image = pyplot.imsave('name.png',cropped_img2)\n",
    "#crop_list.append(cropped_img2)\n",
    "#print(crop_list)\n"
   ]
  },
  {
   "cell_type": "code",
   "execution_count": 7,
   "id": "educated-zealand",
   "metadata": {},
   "outputs": [],
   "source": [
    "\n",
    "def cropImage(image):\n",
    "    crop_list=[]\n",
    "    i=0\n",
    "    x= cell_size\n",
    "    \n",
    "    while True:\n",
    "        j=0\n",
    "        y=cell_size\n",
    "        while True:\n",
    "            \n",
    "            cropped_img2 = img[i*cell_size:x,j*cell_size:y]\n",
    "            cropped_img_plot = plt.imshow(cropped_img2)\n",
    "            #pyplot.imsave('cropped'+str(i)+str(j)+'.png',cropped_img2)\n",
    "            #new_img=pyplot.imsave('cropped'+str(i)+str(j)+'.png',cropped_img2)\n",
    "            #crop_list.append('1')\n",
    "            \n",
    "            \n",
    "            plt.show()\n",
    "            j=j+1\n",
    "            y=y+cell_size\n",
    "            if(j>=9):\n",
    "                break \n",
    "        \n",
    "        \n",
    "        \n",
    "        i=i+1\n",
    "        x=x+cell_size\n",
    "        if(i>=9):\n",
    "            break\n",
    "        \n",
    "    \n",
    "    \n",
    "\n",
    "#cropImage(img)"
   ]
  },
  {
   "cell_type": "code",
   "execution_count": 16,
   "id": "cutting-colony",
   "metadata": {},
   "outputs": [],
   "source": [
    "img = mpimg.imread('cropped12.png')"
   ]
  },
  {
   "cell_type": "code",
   "execution_count": 17,
   "id": "independent-effect",
   "metadata": {},
   "outputs": [
    {
     "name": "stdout",
     "output_type": "stream",
     "text": [
      "(65, 67, 4)\n"
     ]
    }
   ],
   "source": [
    "print(img.shape)"
   ]
  },
  {
   "cell_type": "code",
   "execution_count": null,
   "id": "hybrid-craps",
   "metadata": {},
   "outputs": [],
   "source": []
  }
 ],
 "metadata": {
  "kernelspec": {
   "display_name": "Python 3",
   "language": "python",
   "name": "python3"
  },
  "language_info": {
   "codemirror_mode": {
    "name": "ipython",
    "version": 3
   },
   "file_extension": ".py",
   "mimetype": "text/x-python",
   "name": "python",
   "nbconvert_exporter": "python",
   "pygments_lexer": "ipython3",
   "version": "3.8.5"
  }
 },
 "nbformat": 4,
 "nbformat_minor": 5
}
