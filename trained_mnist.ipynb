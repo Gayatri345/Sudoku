{
 "cells": [
  {
   "cell_type": "code",
   "execution_count": 18,
   "id": "answering-guyana",
   "metadata": {},
   "outputs": [],
   "source": [
    "import tensorflow as tf\n",
    "from tensorflow import keras\n",
    "import matplotlib.pyplot as plt\n",
    "import numpy as np\n",
    "import seaborn as sn"
   ]
  },
  {
   "cell_type": "code",
   "execution_count": 19,
   "id": "competent-fellowship",
   "metadata": {},
   "outputs": [
    {
     "name": "stdout",
     "output_type": "stream",
     "text": [
      "Epoch 1/5\n",
      "1875/1875 [==============================] - 4s 2ms/step - loss: 0.3014 - accuracy: 0.9151\n",
      "Epoch 2/5\n",
      "1875/1875 [==============================] - 4s 2ms/step - loss: 0.1427 - accuracy: 0.9579\n",
      "Epoch 3/5\n",
      "1875/1875 [==============================] - 4s 2ms/step - loss: 0.1015 - accuracy: 0.9699\n",
      "Epoch 4/5\n",
      "1875/1875 [==============================] - 3s 2ms/step - loss: 0.0786 - accuracy: 0.9759\n",
      "Epoch 5/5\n",
      "1875/1875 [==============================] - 4s 2ms/step - loss: 0.0639 - accuracy: 0.9804\n",
      "313/313 [==============================] - 0s 1ms/step - loss: 0.1015 - accuracy: 0.9679\n"
     ]
    }
   ],
   "source": [
    "(X_train, y_train), (X_test, y_test) = keras.datasets.mnist.load_data()\n",
    "X_train = X_train/255\n",
    "X_test = X_test/255\n",
    "X_train_flatten = X_train.reshape(len(X_train), 28*28)\n",
    "X_test_flatten = X_test.reshape(len(X_test), 28*28)\n",
    "model = keras.Sequential([keras.layers.Dense(100, input_shape =(784,),activation = 'relu'),\n",
    "                         keras.layers.Dense(10, activation = 'sigmoid')])\n",
    "model.compile(optimizer='adam', loss='sparse_categorical_crossentropy', metrics = ['accuracy'])\n",
    "model.fit(X_train_flatten, y_train, epochs = 5)\n",
    "model.evaluate(X_test_flatten, y_test)\n",
    "y_predicted = model.predict(X_test_flatten)\n",
    "y_predicted_labels = [np.argmax(i) for i in y_predicted]\n",
    "#cm = tf.math.confusion_matrix(labels = y_test, predictions = y_predicted_labels)\n",
    "#plt.figure(figsize = (10,7))\n",
    "#sn.heatmap(cm, annot = True, fmt = 'd')\n",
    "#plt.xlabel('predicted')\n",
    "#plt.ylabel('truth')\n"
   ]
  },
  {
   "cell_type": "code",
   "execution_count": 20,
   "id": "extreme-schema",
   "metadata": {},
   "outputs": [
    {
     "data": {
      "text/plain": [
       "array([3.4315004e-08, 5.6561208e-01, 3.8645953e-06, 8.6621293e-07,\n",
       "       7.0816773e-06, 1.5036303e-08, 9.3994203e-08, 4.7799945e-04,\n",
       "       3.1958791e-06, 1.7714470e-07], dtype=float32)"
      ]
     },
     "execution_count": 20,
     "metadata": {},
     "output_type": "execute_result"
    }
   ],
   "source": [
    "y_predicted[5]"
   ]
  },
  {
   "cell_type": "code",
   "execution_count": 21,
   "id": "planned-party",
   "metadata": {},
   "outputs": [
    {
     "data": {
      "text/plain": [
       "<matplotlib.image.AxesImage at 0x284d41d3e50>"
      ]
     },
     "execution_count": 21,
     "metadata": {},
     "output_type": "execute_result"
    },
    {
     "data": {
      "image/png": "[encoded data removed]",
      "text/plain": [
       "<Figure size 288x288 with 1 Axes>"
      ]
     },
     "metadata": {
      "needs_background": "light"
     },
     "output_type": "display_data"
    }
   ],
   "source": [
    "plt.matshow(X_test[5])"
   ]
  },
  {
   "cell_type": "code",
   "execution_count": 22,
   "id": "patient-reynolds",
   "metadata": {},
   "outputs": [
    {
     "data": {
      "text/plain": [
       "1"
      ]
     },
     "execution_count": 22,
     "metadata": {},
     "output_type": "execute_result"
    }
   ],
   "source": [
    "y_predicted_labels = [np.argmax(i) for i in y_predicted]\n",
    "y_predicted_labels[5]\n"
   ]
  },
  {
   "cell_type": "code",
   "execution_count": 23,
   "id": "fabulous-consumer",
   "metadata": {},
   "outputs": [],
   "source": [
    "import imageio\n",
    "import numpy as np\n",
    "from matplotlib import pyplot as plt\n",
    "\n",
    "im = imageio.imread(\"https://i.imgur.com/a3Rql9C.png\")"
   ]
  },
  {
   "cell_type": "code",
   "execution_count": 24,
   "id": "absent-margin",
   "metadata": {},
   "outputs": [
    {
     "data": {
      "image/png": "[encoded data removed]",
      "text/plain": [
       "<Figure size 432x288 with 1 Axes>"
      ]
     },
     "metadata": {
      "needs_background": "light"
     },
     "output_type": "display_data"
    },
    {
     "name": "stdout",
     "output_type": "stream",
     "text": [
      "(28, 28)\n",
      "28\n"
     ]
    }
   ],
   "source": [
    "gray = np.dot(im[...,:3], [0.299, 0.587, 0.114])\n",
    "plt.imshow(gray, cmap = plt.get_cmap('gray'))\n",
    "plt.show()\n",
    "print(gray.shape)\n",
    "print(len(gray))"
   ]
  },
  {
   "cell_type": "code",
   "execution_count": 25,
   "id": "steady-legislation",
   "metadata": {},
   "outputs": [],
   "source": [
    "#normalize image\n",
    "#gray[0]\n",
    "#gray.shape\n",
    "\n",
    "#gray = gray/255\n",
    "#print(gray.shape)\n",
    "\n",
    "#gray.shape\n",
    "#gray_flatten = gray.reshape(len(gray),28*28)\n",
    "#X_train_flatten = X_train.reshape(len(X_train), 28*28)\n",
    "#print(gray_flatten.shape)\n",
    "#print(X_train_flatten.shape)\n",
    "#print(len(X_train))"
   ]
  },
  {
   "cell_type": "code",
   "execution_count": 26,
   "id": "extended-softball",
   "metadata": {},
   "outputs": [],
   "source": [
    "#y_predicted = model.predict(gray)\n",
    "#y_predicted_labels = [np.argmax(i) for i in y_predicted]"
   ]
  },
  {
   "cell_type": "code",
   "execution_count": 27,
   "id": "revolutionary-falls",
   "metadata": {},
   "outputs": [],
   "source": [
    "import cv2\n",
    "import matplotlib.pyplot as plt"
   ]
  },
  {
   "cell_type": "code",
   "execution_count": 28,
   "id": "general-flashing",
   "metadata": {},
   "outputs": [],
   "source": [
    "file = r'C:\\Users\\gayat\\OneDrive\\Desktop\\CSCE5210\\validation_2.png'"
   ]
  },
  {
   "cell_type": "code",
   "execution_count": 29,
   "id": "animal-chance",
   "metadata": {},
   "outputs": [],
   "source": [
    "test_image = cv2.imread(file, cv2.IMREAD_GRAYSCALE)"
   ]
  },
  {
   "cell_type": "code",
   "execution_count": 30,
   "id": "surgical-bosnia",
   "metadata": {},
   "outputs": [
    {
     "data": {
      "text/plain": [
       "<matplotlib.image.AxesImage at 0x2848129ffa0>"
      ]
     },
     "execution_count": 30,
     "metadata": {},
     "output_type": "execute_result"
    },
    {
     "data": {
      "image/png": "[encoded data removed]",
      "text/plain": [
       "<Figure size 432x288 with 1 Axes>"
      ]
     },
     "metadata": {
      "needs_background": "light"
     },
     "output_type": "display_data"
    }
   ],
   "source": [
    "plt.imshow(test_image, cmap = 'gray')"
   ]
  },
  {
   "cell_type": "code",
   "execution_count": 31,
   "id": "british-electric",
   "metadata": {},
   "outputs": [],
   "source": [
    "img_resized = cv2.resize(test_image, (28,28), interpolation=cv2.INTER_LINEAR)"
   ]
  },
  {
   "cell_type": "code",
   "execution_count": 32,
   "id": "entire-priest",
   "metadata": {},
   "outputs": [],
   "source": [
    "img_resized = cv2.bitwise_not(img_resized)"
   ]
  },
  {
   "cell_type": "code",
   "execution_count": 33,
   "id": "portuguese-belfast",
   "metadata": {},
   "outputs": [
    {
     "data": {
      "text/plain": [
       "<matplotlib.image.AxesImage at 0x284d40f83d0>"
      ]
     },
     "execution_count": 33,
     "metadata": {},
     "output_type": "execute_result"
    },
    {
     "data": {
      "image/png": "[encoded data removed]",
      "text/plain": [
       "<Figure size 432x288 with 1 Axes>"
      ]
     },
     "metadata": {
      "needs_background": "light"
     },
     "output_type": "display_data"
    }
   ],
   "source": [
    "plt.imshow(img_resized, cmap = 'gray')"
   ]
  },
  {
   "cell_type": "code",
   "execution_count": 37,
   "id": "shaped-asset",
   "metadata": {},
   "outputs": [
    {
     "ename": "ValueError",
     "evalue": "cannot reshape array of size 784 into shape (28,784)",
     "output_type": "error",
     "traceback": [
      "\u001b[1;31m---------------------------------------------------------------------------\u001b[0m",
      "\u001b[1;31mValueError\u001b[0m                                Traceback (most recent call last)",
      "\u001b[1;32m<ipython-input-37-25c6f9b726ce>\u001b[0m in \u001b[0;36m<module>\u001b[1;34m\u001b[0m\n\u001b[0;32m      1\u001b[0m \u001b[0mimg_resized\u001b[0m \u001b[1;33m=\u001b[0m \u001b[0mimg_resized\u001b[0m\u001b[1;33m/\u001b[0m\u001b[1;36m255\u001b[0m\u001b[1;33m\u001b[0m\u001b[1;33m\u001b[0m\u001b[0m\n\u001b[1;32m----> 2\u001b[1;33m \u001b[0mimg_resized_flatten\u001b[0m \u001b[1;33m=\u001b[0m \u001b[0mimg_resized\u001b[0m\u001b[1;33m.\u001b[0m\u001b[0mreshape\u001b[0m\u001b[1;33m(\u001b[0m\u001b[0mlen\u001b[0m\u001b[1;33m(\u001b[0m\u001b[0mimg_resized\u001b[0m\u001b[1;33m)\u001b[0m\u001b[1;33m,\u001b[0m \u001b[1;36m28\u001b[0m\u001b[1;33m*\u001b[0m\u001b[1;36m28\u001b[0m\u001b[1;33m)\u001b[0m\u001b[1;33m\u001b[0m\u001b[1;33m\u001b[0m\u001b[0m\n\u001b[0m",
      "\u001b[1;31mValueError\u001b[0m: cannot reshape array of size 784 into shape (28,784)"
     ]
    }
   ],
   "source": [
    "img_resized = img_resized/255\n",
    "img_resized_flatten = img_resized.reshape(len(img_resized), 28*28)"
   ]
  },
  {
   "cell_type": "code",
   "execution_count": null,
   "id": "peripheral-packing",
   "metadata": {},
   "outputs": [],
   "source": []
  }
 ],
 "metadata": {
  "kernelspec": {
   "display_name": "Python 3",
   "language": "python",
   "name": "python3"
  },
  "language_info": {
   "codemirror_mode": {
    "name": "ipython",
    "version": 3
   },
   "file_extension": ".py",
   "mimetype": "text/x-python",
   "name": "python",
   "nbconvert_exporter": "python",
   "pygments_lexer": "ipython3",
   "version": "3.8.5"
  }
 },
 "nbformat": 4,
 "nbformat_minor": 5
}
