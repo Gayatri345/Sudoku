{
 "cells": [
  {
   "cell_type": "code",
   "execution_count": 1,
   "id": "polished-screen",
   "metadata": {},
   "outputs": [],
   "source": [
    "import tensorflow as tf\n",
    "from tensorflow import keras\n",
    "import matplotlib.pyplot as plt\n",
    "import numpy as np\n",
    "import seaborn as sn\n",
    "import cv2\n",
    "import matplotlib.pyplot as plt"
   ]
  },
  {
   "cell_type": "code",
   "execution_count": 2,
   "id": "devoted-scholar",
   "metadata": {},
   "outputs": [
    {
     "name": "stdout",
     "output_type": "stream",
     "text": [
      "Epoch 1/5\n",
      "1875/1875 [==============================] - 2s 862us/step - loss: 0.2936 - accuracy: 0.9186\n",
      "Epoch 2/5\n",
      "1875/1875 [==============================] - 2s 813us/step - loss: 0.1357 - accuracy: 0.9603\n",
      "Epoch 3/5\n",
      "1875/1875 [==============================] - 2s 825us/step - loss: 0.0976 - accuracy: 0.9714\n",
      "Epoch 4/5\n",
      "1875/1875 [==============================] - 2s 848us/step - loss: 0.0768 - accuracy: 0.97720s - loss: 0\n",
      "Epoch 5/5\n",
      "1875/1875 [==============================] - 2s 902us/step - loss: 0.0625 - accuracy: 0.9810\n",
      "313/313 [==============================] - 0s 875us/step - loss: 0.0913 - accuracy: 0.9746\n"
     ]
    }
   ],
   "source": [
    "(X_train, y_train), (X_test, y_test) = keras.datasets.mnist.load_data()\n",
    "X_train = X_train/255\n",
    "X_test = X_test/255\n",
    "X_train_flatten = X_train.reshape(len(X_train), 28*28)\n",
    "X_test_flatten = X_test.reshape(len(X_test), 28*28)\n",
    "model = keras.Sequential([keras.layers.Dense(100, input_shape =(784,),activation = 'relu'),\n",
    "                         keras.layers.Dense(10, activation = 'sigmoid')])\n",
    "model.compile(optimizer='adam', loss='sparse_categorical_crossentropy', metrics = ['accuracy'])\n",
    "model.fit(X_train_flatten, y_train, epochs = 5)\n",
    "model.evaluate(X_test_flatten, y_test)\n",
    "y_predicted = model.predict(X_test_flatten)\n",
    "y_predicted_labels = [np.argmax(i) for i in y_predicted]"
   ]
  },
  {
   "cell_type": "code",
   "execution_count": 5,
   "id": "behavioral-fiber",
   "metadata": {},
   "outputs": [],
   "source": [
    "#Getting Images of cells"
   ]
  },
  {
   "cell_type": "code",
   "execution_count": 7,
   "id": "median-healthcare",
   "metadata": {},
   "outputs": [
    {
     "name": "stdout",
     "output_type": "stream",
     "text": [
      "image_list:  ['image0.png', 'image1.png', 'image2.png', 'image3.png', 'image4.png', 'image5.png', 'image6.png', 'image7.png', 'image8.png', 'image9.png']\n"
     ]
    }
   ],
   "source": [
    "image_list=[]\n",
    "for i in range(0,10):\n",
    "    image='image'+str(i)+'.png'\n",
    "    image_list.append(image)\n",
    "print('image_list: ',image_list)\n"
   ]
  },
  {
   "cell_type": "code",
   "execution_count": 9,
   "id": "virtual-singles",
   "metadata": {},
   "outputs": [],
   "source": [
    "#predicting given set of images and appending it to a list using our trained model"
   ]
  },
  {
   "cell_type": "code",
   "execution_count": 10,
   "id": "downtown-convention",
   "metadata": {},
   "outputs": [
    {
     "name": "stdout",
     "output_type": "stream",
     "text": [
      "[[0], [1], [5], [3], [4], [5], [2], [7], [8], [9]]\n"
     ]
    }
   ],
   "source": [
    "predict_list=[]\n",
    "for image in image_list:\n",
    "    #print(image)\n",
    "    file= image\n",
    "    #print(file)\n",
    "    test_image = cv2.imread(file, cv2.IMREAD_GRAYSCALE)\n",
    "    img_resized = cv2.resize(test_image, (28,28), interpolation=cv2.INTER_LINEAR)\n",
    "    img_resized = cv2.bitwise_not(img_resized)\n",
    "    img2_resized= img_resized/255\n",
    "    #print(img_resized)\n",
    "    img_resized_flatten = img2_resized.reshape(1, 28*28)\n",
    "    y_predicted = model.predict(img_resized_flatten)\n",
    "    y_predicted_labels = [np.argmax(i) for i in y_predicted]\n",
    "    #print(y_predicted_labels)\n",
    "    predict_list.append(y_predicted_labels)\n",
    "print(predict_list)\n",
    "    "
   ]
  },
  {
   "cell_type": "code",
   "execution_count": null,
   "id": "demonstrated-congo",
   "metadata": {},
   "outputs": [],
   "source": []
  }
 ],
 "metadata": {
  "kernelspec": {
   "display_name": "Python 3",
   "language": "python",
   "name": "python3"
  },
  "language_info": {
   "codemirror_mode": {
    "name": "ipython",
    "version": 3
   },
   "file_extension": ".py",
   "mimetype": "text/x-python",
   "name": "python",
   "nbconvert_exporter": "python",
   "pygments_lexer": "ipython3",
   "version": "3.8.5"
  }
 },
 "nbformat": 4,
 "nbformat_minor": 5
}
