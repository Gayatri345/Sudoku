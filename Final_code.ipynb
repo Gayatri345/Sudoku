{
 "cells": [
  {
   "cell_type": "code",
   "execution_count": 2,
   "id": "separated-monthly",
   "metadata": {},
   "outputs": [],
   "source": [
    "#Consolidated code for reading sudoku image, generating images of all the cells, converting blank cell to cell with '0'"
   ]
  },
  {
   "cell_type": "code",
   "execution_count": 13,
   "id": "forty-yeast",
   "metadata": {},
   "outputs": [],
   "source": [
    "import matplotlib.pyplot as plt\n",
    "import matplotlib.image as mpimg\n",
    "import numpy as np\n",
    "from PIL import Image\n",
    "from matplotlib import pyplot\n",
    "import os\n"
   ]
  },
  {
   "cell_type": "code",
   "execution_count": 14,
   "id": "common-stylus",
   "metadata": {},
   "outputs": [],
   "source": [
    "img = mpimg.imread('pic13.png')\n",
    "height=img.shape[0]\n",
    "width=img.shape[1]\n",
    "channels=img.shape[2]\n",
    "cell_size=round(height/9)\n",
    "def cropImage(image):\n",
    "    crop_list=[]\n",
    "    i=0\n",
    "    x= cell_size\n",
    "    \n",
    "    while True:\n",
    "        j=0\n",
    "        y=cell_size\n",
    "        while True:\n",
    "            cropped_img2 = img[i*cell_size+10:x-10,j*cell_size+10:y-10]\n",
    "            pyplot.imsave('cell'+str(i)+str(j)+'.png',cropped_img2)\n",
    "            j=j+1\n",
    "            y=y+cell_size\n",
    "            if(j>=9):\n",
    "                break \n",
    "        i=i+1\n",
    "        x=x+cell_size\n",
    "        if(i>=9):\n",
    "            break\n",
    "        \n",
    "cropImage(img)\n",
    "\n",
    "def BlankToZero():\n",
    "    cell_list=[]\n",
    "    for i in range(0,9):\n",
    "        for j in range(0,9):\n",
    "            image='cell'+str(i)+str(j)+'.png'\n",
    "            cell_list.append(image)\n",
    "    for cell in cell_list:\n",
    "        file_size = os.stat(cell)\n",
    "    \n",
    "    empty_images = []\n",
    "    for image in cell_list:\n",
    "        file_size = os.stat(image)\n",
    "        if file_size.st_size == 372:\n",
    "            empty_images.append(image)\n",
    "    for cell in empty_images:\n",
    "        img1=mpimg.imread('image0.png')\n",
    "        img = mpimg.imread(cell)\n",
    "        pyplot.imsave(cell,img1)\n",
    "        img = mpimg.imread('cell01.png')\n",
    "BlankToZero()\n"
   ]
  },
  {
   "cell_type": "code",
   "execution_count": 10,
   "id": "labeled-dublin",
   "metadata": {},
   "outputs": [],
   "source": [
    "\n"
   ]
  },
  {
   "cell_type": "code",
   "execution_count": null,
   "id": "introductory-johnson",
   "metadata": {},
   "outputs": [],
   "source": []
  },
  {
   "cell_type": "code",
   "execution_count": null,
   "id": "directed-arabic",
   "metadata": {},
   "outputs": [],
   "source": []
  }
 ],
 "metadata": {
  "kernelspec": {
   "display_name": "Python 3",
   "language": "python",
   "name": "python3"
  },
  "language_info": {
   "codemirror_mode": {
    "name": "ipython",
    "version": 3
   },
   "file_extension": ".py",
   "mimetype": "text/x-python",
   "name": "python",
   "nbconvert_exporter": "python",
   "pygments_lexer": "ipython3",
   "version": "3.8.5"
  }
 },
 "nbformat": 4,
 "nbformat_minor": 5
}
